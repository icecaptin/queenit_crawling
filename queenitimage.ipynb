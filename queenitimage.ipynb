{
 "cells": [
  {
   "cell_type": "code",
   "execution_count": 3,
   "metadata": {},
   "outputs": [
    {
     "name": "stdout",
     "output_type": "stream",
     "text": [
      "https://image.queenit.kr/resized/product/asset/v1/upload/8ad9631b11e6402c82d2d51b1b40fe8e.jpeg?type=big&res=1x\n",
      "https://image.queenit.kr/resized/product/asset/v1/upload/e5ca1706a12f4c97a3fdbc94c7bf5812.jpg?type=big&res=1x\n",
      "https://image.queenit.kr/resized/product/asset/v1/upload/e5ca1706a12f4c97a3fdbc94c7bf5812.jpg?type=big&res=1x\n",
      "https://image.queenit.kr/resized/product/asset/v1/upload/e5ca1706a12f4c97a3fdbc94c7bf5812.jpg?type=big&res=1x\n",
      "https://image.queenit.kr/resized/product/asset/v1/upload/e5ca1706a12f4c97a3fdbc94c7bf5812.jpg?type=big&res=1x\n",
      "https://image.queenit.kr/resized/product/asset/v1/upload/e5ca1706a12f4c97a3fdbc94c7bf5812.jpg?type=big&res=1x\n",
      "https://image.queenit.kr/resized/product/asset/v1/upload/29b3ec49546f4193974267db5012cad0.jpg?type=big&res=1x\n",
      "https://image.queenit.kr/resized/product/asset/v1/upload/c579acf2454a4411bffccb60e89fa37e.jpg?type=big&res=1x\n",
      "https://image.queenit.kr/resized/product/asset/v1/upload/09a1fce977d14b849e51815d0d76dd32.jpg?type=big&res=1x\n",
      "https://image.queenit.kr/resized/product/asset/v1/upload/67c1db8557a94465a1c4157225e22685.jpg?type=big&res=1x\n",
      "https://image.queenit.kr/resized/product/asset/v1/upload/56de58dc49514ee9b0af39a2f6814a20.jpeg?type=big&res=1x\n",
      "https://image.queenit.kr/resized/product/asset/v1/upload/d9258b37baee4ac1bb3a26bf1a47c168.jpg?type=big&res=1x\n",
      "https://image.queenit.kr/resized/product/asset/v1/upload/d9258b37baee4ac1bb3a26bf1a47c168.jpg?type=big&res=1x\n",
      "https://image.queenit.kr/resized/product/asset/v1/upload/d9258b37baee4ac1bb3a26bf1a47c168.jpg?type=big&res=1x\n",
      "https://image.queenit.kr/resized/product/asset/v1/upload/d9258b37baee4ac1bb3a26bf1a47c168.jpg?type=big&res=1x\n",
      "https://image.queenit.kr/resized/product/asset/v1/upload/d9258b37baee4ac1bb3a26bf1a47c168.jpg?type=big&res=1x\n",
      "https://image.queenit.kr/resized/product/asset/v1/upload/fc8f0768f9824582ae5fb689ff0952df.jpeg?type=big&res=1x\n",
      "https://image.queenit.kr/resized/product/asset/v1/upload/84e5ec6422f74fb9878f1abe827ecbea.jpg?type=big&res=1x\n",
      "https://image.queenit.kr/resized/product/asset/v1/upload/8ffa7d125e594fa38133f5f65bdc700f.jpg?type=big&res=1x\n",
      "https://image.queenit.kr/resized/product/asset/v1/upload/25759de33998473b8ce370d4ab1eef1b.jpg?type=big&res=1x\n"
     ]
    }
   ],
   "source": [
    "import csv\n",
    "import pandas as pd\n",
    "\n",
    "csv_path = r'C:\\Users\\kwon\\Desktop\\crawling_project\\result\\queenit_crawl.csv'\n",
    "\n",
    "# CSV 파일을 DataFrame으로 읽어옴\n",
    "df = pd.read_csv(csv_path, encoding='cp949')\n",
    "\n",
    "# ImageURL 열의 내용 전체 출력\n",
    "for image_url in df['ImageURL']:\n",
    "    print(image_url)\n",
    "\n"
   ]
  },
  {
   "cell_type": "code",
   "execution_count": 5,
   "metadata": {},
   "outputs": [
    {
     "name": "stdout",
     "output_type": "stream",
     "text": [
      "이미지 다운로드 완료: C:\\Users\\kwon\\Desktop\\crawling_project\\result\\images\\[MAXZA Collection] 드림캐처 프린트 플리츠 하이넥 쉬폰 블라우스.jpeg\n",
      "이미지 다운로드 완료: C:\\Users\\kwon\\Desktop\\crawling_project\\result\\images\\[신상] 페플럼 니트 가디건_SSKCDN12510_BK.jpg\n",
      "이미지 다운로드 완료: C:\\Users\\kwon\\Desktop\\crawling_project\\result\\images\\시스루 레이스 배색 나시.jpg\n",
      "이미지 다운로드 완료: C:\\Users\\kwon\\Desktop\\crawling_project\\result\\images\\[1+1+1] 세트 신상 슬리브리스 티셔츠 3종 세트 (55~88까지).jpg\n",
      "이미지 다운로드 완료: C:\\Users\\kwon\\Desktop\\crawling_project\\result\\images\\라운드 포켓 럭스 셔츠 (3color)_JDWAAA04M(E).jpg\n",
      "이미지 다운로드 완료: C:\\Users\\kwon\\Desktop\\crawling_project\\result\\images\\[1+1+1+1] 세트 돌먼 니트 4종세트 (~88).jpg\n",
      "이미지 다운로드 완료: C:\\Users\\kwon\\Desktop\\crawling_project\\result\\images\\체크 후드 셔츠 LCWSM226_PK.jpg\n",
      "이미지 다운로드 완료: C:\\Users\\kwon\\Desktop\\crawling_project\\result\\images\\매쉬 땡땡이 썸머 블라우스 (~88).jpg\n",
      "이미지 다운로드 완료: C:\\Users\\kwon\\Desktop\\crawling_project\\result\\images\\(더아이잗) 브이넥 실키 블라우스 IN9P0BL51.jpg\n",
      "이미지 다운로드 완료: C:\\Users\\kwon\\Desktop\\crawling_project\\result\\images\\코튼 체크 셔츠 LCWSM533_BL.jpg\n",
      "이미지 다운로드 완료: C:\\Users\\kwon\\Desktop\\crawling_project\\result\\images\\[신규컬러] 여름 케이블 꽈배기 반팔 니트 (~88까지) (5컬러).jpeg\n",
      "이미지 다운로드 완료: C:\\Users\\kwon\\Desktop\\crawling_project\\result\\images\\그래픽 반팔 티셔츠 LFTSM601_WH.jpg\n",
      "이미지 다운로드 완료: C:\\Users\\kwon\\Desktop\\crawling_project\\result\\images\\[자체생산] 1306 시스루 셔링 블라우스.jpg\n",
      "이미지 다운로드 완료: C:\\Users\\kwon\\Desktop\\crawling_project\\result\\images\\[르니앤맥코이] 르니 밴딩 스트라이프 7부 블라우스 MK09BL605HJY.jpg\n",
      "이미지 다운로드 완료: C:\\Users\\kwon\\Desktop\\crawling_project\\result\\images\\[신상] 린넨 지도리 셔츠 LCWSN432_TE.jpg\n",
      "이미지 다운로드 완료: C:\\Users\\kwon\\Desktop\\crawling_project\\result\\images\\체인 브이넥 블라우스 LFWSM303_BE.jpg\n",
      "이미지 다운로드 완료: C:\\Users\\kwon\\Desktop\\crawling_project\\result\\images\\[MAXZA][당일출고]배색포인트 라운드넥 반팔 티셔츠.jpeg\n",
      "이미지 다운로드 완료: C:\\Users\\kwon\\Desktop\\crawling_project\\result\\images\\후드 반팔 티셔츠 LOTSM401_GE.jpg\n",
      "이미지 다운로드 완료: C:\\Users\\kwon\\Desktop\\crawling_project\\result\\images\\글리터 스트라이프 라운드넥 니트 (3color).jpg\n",
      "이미지 다운로드 완료: C:\\Users\\kwon\\Desktop\\crawling_project\\result\\images\\[신상] 여성 스트라이프 러플넥 블라우스 LCWSN526_PP.jpg\n"
     ]
    }
   ],
   "source": [
    "import os\n",
    "import requests\n",
    "import csv\n",
    "from urllib.parse import urlparse\n",
    "\n",
    "def download_images(csv_path, save_folder):\n",
    "    if not os.path.exists(save_folder):\n",
    "        os.makedirs(save_folder)\n",
    "\n",
    "    with open(csv_path, 'r', encoding='cp949') as csvfile:\n",
    "        reader = csv.DictReader(csvfile)\n",
    "\n",
    "        for row in reader:\n",
    "            image_url = row['ImageURL']\n",
    "            parsed_url = urlparse(image_url)\n",
    "            filename = row['Name'] + os.path.splitext(parsed_url.path)[1]\n",
    "            save_path = os.path.join(save_folder, filename)\n",
    "\n",
    "            response = requests.get(image_url, stream=True)\n",
    "            if response.status_code == 200:\n",
    "                with open(save_path, 'wb') as file:\n",
    "                    response.raw.decode_content = True\n",
    "                    file.write(response.content)\n",
    "                print(\"이미지 다운로드 완료:\", save_path)\n",
    "            else:\n",
    "                print(\"이미지 다운로드 실패:\", image_url)\n",
    "\n",
    "csv_path = r'본인컴퓨터경로\\crawling_project\\result\\queenit_crawl.csv'\n",
    "save_folder = r'본인컴퓨터경로'\n",
    "\n",
    "download_images(csv_path, save_folder)\n"
   ]
  }
 ],
 "metadata": {
  "kernelspec": {
   "display_name": "Python 3",
   "language": "python",
   "name": "python3"
  },
  "language_info": {
   "codemirror_mode": {
    "name": "ipython",
    "version": 3
   },
   "file_extension": ".py",
   "mimetype": "text/x-python",
   "name": "python",
   "nbconvert_exporter": "python",
   "pygments_lexer": "ipython3",
   "version": "3.10.11"
  },
  "orig_nbformat": 4
 },
 "nbformat": 4,
 "nbformat_minor": 2
}
